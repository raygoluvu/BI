{
 "cells": [
  {
   "cell_type": "code",
   "execution_count": 1,
   "metadata": {},
   "outputs": [],
   "source": [
    "import matplotlib.pyplot as plt"
   ]
  },
  {
   "cell_type": "code",
   "execution_count": 3,
   "metadata": {},
   "outputs": [
    {
     "data": {
      "text/plain": [
       "<Figure size 200x200 with 0 Axes>"
      ]
     },
     "metadata": {},
     "output_type": "display_data"
    }
   ],
   "source": [
    "fig = plt.figure(figsize=(6, 4))"
   ]
  },
  {
   "cell_type": "code",
   "execution_count": 4,
   "metadata": {},
   "outputs": [],
   "source": [
    "ax_1 = fig.add_subplot(2, 2, 1)\n",
    "ax_2 = fig.add_subplot(2, 2, 2)\n",
    "ax_3 = fig.add_subplot(2, 2, 3)"
   ]
  },
  {
   "cell_type": "code",
   "execution_count": 8,
   "metadata": {},
   "outputs": [
    {
     "data": {
      "text/plain": [
       "(array([ 6.,  3.,  6.,  6.,  5., 14.,  4.,  7.,  8.,  5.,  6.,  4.,  5.,\n",
       "         3.,  4.,  3.,  3.,  1.,  2.,  5.]),\n",
       " array([ 1. ,  5.5, 10. , 14.5, 19. , 23.5, 28. , 32.5, 37. , 41.5, 46. ,\n",
       "        50.5, 55. , 59.5, 64. , 68.5, 73. , 77.5, 82. , 86.5, 91. ]),\n",
       " <BarContainer object of 20 artists>)"
      ]
     },
     "execution_count": 8,
     "metadata": {},
     "output_type": "execute_result"
    }
   ],
   "source": [
    "data = [1, 1, 2, 3, 3, 5, 7, 8, 9, 10,\n",
    "        10, 11, 11, 13, 13, 15, 16, 17, 18, 18,\n",
    "        18, 19, 20, 21, 21, 23, 24, 24, 25, 25,\n",
    "        25, 25, 26, 26, 26, 27, 27, 27, 27, 27,\n",
    "        29, 30, 30, 31, 33, 34, 34, 34, 35, 36,\n",
    "        36, 37, 37, 38, 38, 39, 40, 41, 41, 42,\n",
    "        43, 44, 45, 45, 46, 47, 48, 48, 49, 50,\n",
    "        51, 52, 53, 54, 55, 55, 56, 57, 58, 60,\n",
    "        61, 63, 64, 65, 66, 68, 70, 71, 72, 74,\n",
    "        75, 77, 81, 83, 85, 87, 89, 90, 90, 91\n",
    "        ]\n",
    "ax_1.hist(data, bins=20, color='k', alpha=0.3)\n"
   ]
  },
  {
   "cell_type": "code",
   "execution_count": null,
   "metadata": {},
   "outputs": [],
   "source": []
  }
 ],
 "metadata": {
  "kernelspec": {
   "display_name": "ckip",
   "language": "python",
   "name": "python3"
  },
  "language_info": {
   "codemirror_mode": {
    "name": "ipython",
    "version": 3
   },
   "file_extension": ".py",
   "mimetype": "text/x-python",
   "name": "python",
   "nbconvert_exporter": "python",
   "pygments_lexer": "ipython3",
   "version": "3.8.19"
  }
 },
 "nbformat": 4,
 "nbformat_minor": 2
}
